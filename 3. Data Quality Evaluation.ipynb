{
 "cells": [
  {
   "cell_type": "markdown",
   "id": "fdd81175",
   "metadata": {},
   "source": [
    "# Evaluate Data Quality Issues"
   ]
  },
  {
   "cell_type": "markdown",
   "id": "c6d3520c",
   "metadata": {},
   "source": [
    "1. Check Validity: data type checks (e.g., dates are in date format), range checks (e.g., prices are int, float), and list-of-values checks (e.g., categories match a predefined list)\n",
    "2. Check Consistency: ensuring that all records adhere to logical rules. For instance, finishedDate should always be on or after createDate.\n",
    "3. Check Completeness: Detect missing value\n",
    "4. Check Integrity: Verify that relationships among data entities (tables) make sense. For example, duplicate should not exist.\n",
    "5. Check Outliers: Identify and investigate any outliers that may indicate data entry errors or other anomalies"
   ]
  },
  {
   "cell_type": "code",
   "execution_count": 1,
   "id": "71665fc9",
   "metadata": {},
   "outputs": [],
   "source": [
    "# import Required packages\n",
    "import gzip\n",
    "import json\n",
    "import pandas as pd\n",
    "import matplotlib.pyplot as plt"
   ]
  },
  {
   "cell_type": "code",
   "execution_count": 2,
   "id": "68665dc1",
   "metadata": {},
   "outputs": [],
   "source": [
    "# Function to read json file\n",
    "def readJson(file_path):    \n",
    "    # Open the gzipped file in text mode ('rt')\n",
    "    with gzip.open(file_path, 'rt') as f:\n",
    "        # Iterate over each line in the file\n",
    "        all_data = []\n",
    "        for line in f:\n",
    "            \n",
    "            try:\n",
    "                # Find the starting index of the JSON part (assuming it always starts with '{\"_id\"')\n",
    "                json_start_index = line.find('{\"_id\"')\n",
    "                if json_start_index != -1:\n",
    "                    # Extract the JSON part from the line\n",
    "                    json_part = line[json_start_index:]\n",
    "                    # Attempt to parse the JSON data\n",
    "                    data = json.loads(json_part)\n",
    "                    # If successful, append the parsed data to the 'users' list\n",
    "                    all_data.append(data)\n",
    "                else:\n",
    "                    # If '{\"_id\"' is not found in the line, skip it\n",
    "                    continue\n",
    "            except json.JSONDecodeError:\n",
    "                # If an error occurs while parsing the JSON, print the offending line (optional) and skip it\n",
    "                print(\"Could not parse line:\", line)\n",
    "                continue\n",
    "            data_df = pd.DataFrame(all_data)    \n",
    "        return data_df\n",
    "\n",
    "# Function to extract value from nested dictionary\n",
    "def extract_value_from_dict(dict_col, key):\n",
    "    return dict_col.apply(lambda x: x.get(key, None) if isinstance(x, dict) else None)"
   ]
  },
  {
   "cell_type": "markdown",
   "id": "544f4972",
   "metadata": {},
   "source": [
    "## a. Receipts Data"
   ]
  },
  {
   "cell_type": "code",
   "execution_count": 3,
   "id": "ac781e43",
   "metadata": {},
   "outputs": [],
   "source": [
    "# Read Receipts Data\n",
    "file_path = './receipts.json.gz'\n",
    "receipts_df = readJson(file_path)\n",
    "# Flatten nested '_id' and date columns\n",
    "receipts_df['_id'] = extract_value_from_dict(receipts_df['_id'], '$oid')\n",
    "receipts_df['createDate'] = pd.to_datetime(extract_value_from_dict(receipts_df['createDate'], '$date'), unit='ms')\n",
    "receipts_df['dateScanned'] = pd.to_datetime(extract_value_from_dict(receipts_df['dateScanned'], '$date'), unit='ms')\n",
    "receipts_df['finishedDate'] = pd.to_datetime(extract_value_from_dict(receipts_df['finishedDate'], '$date'), unit='ms')\n",
    "receipts_df['modifyDate'] = pd.to_datetime(extract_value_from_dict(receipts_df['modifyDate'], '$date'), unit='ms')\n",
    "receipts_df['pointsAwardedDate'] = pd.to_datetime(extract_value_from_dict(receipts_df['pointsAwardedDate'], '$date'), unit='ms')\n",
    "receipts_df['purchaseDate'] = pd.to_datetime(extract_value_from_dict(receipts_df['purchaseDate'], '$date'), unit='ms')"
   ]
  },
  {
   "cell_type": "code",
   "execution_count": 4,
   "id": "b446aa97",
   "metadata": {},
   "outputs": [
    {
     "data": {
      "text/html": [
       "<div>\n",
       "<style scoped>\n",
       "    .dataframe tbody tr th:only-of-type {\n",
       "        vertical-align: middle;\n",
       "    }\n",
       "\n",
       "    .dataframe tbody tr th {\n",
       "        vertical-align: top;\n",
       "    }\n",
       "\n",
       "    .dataframe thead th {\n",
       "        text-align: right;\n",
       "    }\n",
       "</style>\n",
       "<table border=\"1\" class=\"dataframe\">\n",
       "  <thead>\n",
       "    <tr style=\"text-align: right;\">\n",
       "      <th></th>\n",
       "      <th>_id</th>\n",
       "      <th>bonusPointsEarned</th>\n",
       "      <th>bonusPointsEarnedReason</th>\n",
       "      <th>createDate</th>\n",
       "      <th>dateScanned</th>\n",
       "      <th>finishedDate</th>\n",
       "      <th>modifyDate</th>\n",
       "      <th>pointsAwardedDate</th>\n",
       "      <th>pointsEarned</th>\n",
       "      <th>purchaseDate</th>\n",
       "      <th>purchasedItemCount</th>\n",
       "      <th>rewardsReceiptItemList</th>\n",
       "      <th>rewardsReceiptStatus</th>\n",
       "      <th>totalSpent</th>\n",
       "      <th>userId</th>\n",
       "    </tr>\n",
       "  </thead>\n",
       "  <tbody>\n",
       "    <tr>\n",
       "      <th>0</th>\n",
       "      <td>5ff1e1eb0a720f0523000575</td>\n",
       "      <td>500.0</td>\n",
       "      <td>Receipt number 2 completed, bonus point schedu...</td>\n",
       "      <td>2021-01-03 15:25:31</td>\n",
       "      <td>2021-01-03 15:25:31</td>\n",
       "      <td>2021-01-03 15:25:31</td>\n",
       "      <td>2021-01-03 15:25:36</td>\n",
       "      <td>2021-01-03 15:25:31</td>\n",
       "      <td>500.0</td>\n",
       "      <td>2021-01-03 00:00:00</td>\n",
       "      <td>5.0</td>\n",
       "      <td>[{'barcode': '4011', 'description': 'ITEM NOT ...</td>\n",
       "      <td>FINISHED</td>\n",
       "      <td>26.00</td>\n",
       "      <td>5ff1e1eacfcf6c399c274ae6</td>\n",
       "    </tr>\n",
       "    <tr>\n",
       "      <th>1</th>\n",
       "      <td>5ff1e1bb0a720f052300056b</td>\n",
       "      <td>150.0</td>\n",
       "      <td>Receipt number 5 completed, bonus point schedu...</td>\n",
       "      <td>2021-01-03 15:24:43</td>\n",
       "      <td>2021-01-03 15:24:43</td>\n",
       "      <td>2021-01-03 15:24:43</td>\n",
       "      <td>2021-01-03 15:24:48</td>\n",
       "      <td>2021-01-03 15:24:43</td>\n",
       "      <td>150.0</td>\n",
       "      <td>2021-01-02 15:24:43</td>\n",
       "      <td>2.0</td>\n",
       "      <td>[{'barcode': '4011', 'description': 'ITEM NOT ...</td>\n",
       "      <td>FINISHED</td>\n",
       "      <td>11.00</td>\n",
       "      <td>5ff1e194b6a9d73a3a9f1052</td>\n",
       "    </tr>\n",
       "    <tr>\n",
       "      <th>2</th>\n",
       "      <td>5ff1e1f10a720f052300057a</td>\n",
       "      <td>5.0</td>\n",
       "      <td>All-receipts receipt bonus</td>\n",
       "      <td>2021-01-03 15:25:37</td>\n",
       "      <td>2021-01-03 15:25:37</td>\n",
       "      <td>NaT</td>\n",
       "      <td>2021-01-03 15:25:42</td>\n",
       "      <td>NaT</td>\n",
       "      <td>5</td>\n",
       "      <td>2021-01-03 00:00:00</td>\n",
       "      <td>1.0</td>\n",
       "      <td>[{'needsFetchReview': False, 'partnerItemId': ...</td>\n",
       "      <td>REJECTED</td>\n",
       "      <td>10.00</td>\n",
       "      <td>5ff1e1f1cfcf6c399c274b0b</td>\n",
       "    </tr>\n",
       "    <tr>\n",
       "      <th>3</th>\n",
       "      <td>5ff1e1ee0a7214ada100056f</td>\n",
       "      <td>5.0</td>\n",
       "      <td>All-receipts receipt bonus</td>\n",
       "      <td>2021-01-03 15:25:34</td>\n",
       "      <td>2021-01-03 15:25:34</td>\n",
       "      <td>2021-01-03 15:25:34</td>\n",
       "      <td>2021-01-03 15:25:39</td>\n",
       "      <td>2021-01-03 15:25:34</td>\n",
       "      <td>5.0</td>\n",
       "      <td>2021-01-03 00:00:00</td>\n",
       "      <td>4.0</td>\n",
       "      <td>[{'barcode': '4011', 'description': 'ITEM NOT ...</td>\n",
       "      <td>FINISHED</td>\n",
       "      <td>28.00</td>\n",
       "      <td>5ff1e1eacfcf6c399c274ae6</td>\n",
       "    </tr>\n",
       "    <tr>\n",
       "      <th>4</th>\n",
       "      <td>5ff1e1d20a7214ada1000561</td>\n",
       "      <td>5.0</td>\n",
       "      <td>All-receipts receipt bonus</td>\n",
       "      <td>2021-01-03 15:25:06</td>\n",
       "      <td>2021-01-03 15:25:06</td>\n",
       "      <td>2021-01-03 15:25:11</td>\n",
       "      <td>2021-01-03 15:25:11</td>\n",
       "      <td>2021-01-03 15:25:06</td>\n",
       "      <td>5.0</td>\n",
       "      <td>2021-01-02 15:25:06</td>\n",
       "      <td>2.0</td>\n",
       "      <td>[{'barcode': '4011', 'description': 'ITEM NOT ...</td>\n",
       "      <td>FINISHED</td>\n",
       "      <td>1.00</td>\n",
       "      <td>5ff1e194b6a9d73a3a9f1052</td>\n",
       "    </tr>\n",
       "  </tbody>\n",
       "</table>\n",
       "</div>"
      ],
      "text/plain": [
       "                        _id  bonusPointsEarned  \\\n",
       "0  5ff1e1eb0a720f0523000575              500.0   \n",
       "1  5ff1e1bb0a720f052300056b              150.0   \n",
       "2  5ff1e1f10a720f052300057a                5.0   \n",
       "3  5ff1e1ee0a7214ada100056f                5.0   \n",
       "4  5ff1e1d20a7214ada1000561                5.0   \n",
       "\n",
       "                             bonusPointsEarnedReason          createDate  \\\n",
       "0  Receipt number 2 completed, bonus point schedu... 2021-01-03 15:25:31   \n",
       "1  Receipt number 5 completed, bonus point schedu... 2021-01-03 15:24:43   \n",
       "2                         All-receipts receipt bonus 2021-01-03 15:25:37   \n",
       "3                         All-receipts receipt bonus 2021-01-03 15:25:34   \n",
       "4                         All-receipts receipt bonus 2021-01-03 15:25:06   \n",
       "\n",
       "          dateScanned        finishedDate          modifyDate  \\\n",
       "0 2021-01-03 15:25:31 2021-01-03 15:25:31 2021-01-03 15:25:36   \n",
       "1 2021-01-03 15:24:43 2021-01-03 15:24:43 2021-01-03 15:24:48   \n",
       "2 2021-01-03 15:25:37                 NaT 2021-01-03 15:25:42   \n",
       "3 2021-01-03 15:25:34 2021-01-03 15:25:34 2021-01-03 15:25:39   \n",
       "4 2021-01-03 15:25:06 2021-01-03 15:25:11 2021-01-03 15:25:11   \n",
       "\n",
       "    pointsAwardedDate pointsEarned        purchaseDate  purchasedItemCount  \\\n",
       "0 2021-01-03 15:25:31        500.0 2021-01-03 00:00:00                 5.0   \n",
       "1 2021-01-03 15:24:43        150.0 2021-01-02 15:24:43                 2.0   \n",
       "2                 NaT            5 2021-01-03 00:00:00                 1.0   \n",
       "3 2021-01-03 15:25:34          5.0 2021-01-03 00:00:00                 4.0   \n",
       "4 2021-01-03 15:25:06          5.0 2021-01-02 15:25:06                 2.0   \n",
       "\n",
       "                              rewardsReceiptItemList rewardsReceiptStatus  \\\n",
       "0  [{'barcode': '4011', 'description': 'ITEM NOT ...             FINISHED   \n",
       "1  [{'barcode': '4011', 'description': 'ITEM NOT ...             FINISHED   \n",
       "2  [{'needsFetchReview': False, 'partnerItemId': ...             REJECTED   \n",
       "3  [{'barcode': '4011', 'description': 'ITEM NOT ...             FINISHED   \n",
       "4  [{'barcode': '4011', 'description': 'ITEM NOT ...             FINISHED   \n",
       "\n",
       "  totalSpent                    userId  \n",
       "0      26.00  5ff1e1eacfcf6c399c274ae6  \n",
       "1      11.00  5ff1e194b6a9d73a3a9f1052  \n",
       "2      10.00  5ff1e1f1cfcf6c399c274b0b  \n",
       "3      28.00  5ff1e1eacfcf6c399c274ae6  \n",
       "4       1.00  5ff1e194b6a9d73a3a9f1052  "
      ]
     },
     "execution_count": 4,
     "metadata": {},
     "output_type": "execute_result"
    }
   ],
   "source": [
    "receipts_df.head()"
   ]
  },
  {
   "cell_type": "markdown",
   "id": "71f0c58c",
   "metadata": {},
   "source": [
    "### 1. Check Validity"
   ]
  },
  {
   "cell_type": "code",
   "execution_count": 5,
   "id": "1fa7e3a7",
   "metadata": {},
   "outputs": [
    {
     "name": "stdout",
     "output_type": "stream",
     "text": [
      "<class 'pandas.core.frame.DataFrame'>\n",
      "RangeIndex: 1119 entries, 0 to 1118\n",
      "Data columns (total 15 columns):\n",
      " #   Column                   Non-Null Count  Dtype         \n",
      "---  ------                   --------------  -----         \n",
      " 0   _id                      1119 non-null   object        \n",
      " 1   bonusPointsEarned        544 non-null    float64       \n",
      " 2   bonusPointsEarnedReason  544 non-null    object        \n",
      " 3   createDate               1119 non-null   datetime64[ns]\n",
      " 4   dateScanned              1119 non-null   datetime64[ns]\n",
      " 5   finishedDate             568 non-null    datetime64[ns]\n",
      " 6   modifyDate               1119 non-null   datetime64[ns]\n",
      " 7   pointsAwardedDate        537 non-null    datetime64[ns]\n",
      " 8   pointsEarned             609 non-null    object        \n",
      " 9   purchaseDate             671 non-null    datetime64[ns]\n",
      " 10  purchasedItemCount       635 non-null    float64       \n",
      " 11  rewardsReceiptItemList   679 non-null    object        \n",
      " 12  rewardsReceiptStatus     1119 non-null   object        \n",
      " 13  totalSpent               684 non-null    object        \n",
      " 14  userId                   1119 non-null   object        \n",
      "dtypes: datetime64[ns](6), float64(2), object(7)\n",
      "memory usage: 131.3+ KB\n",
      "None\n"
     ]
    }
   ],
   "source": [
    "def check_data_types(df):\n",
    "    print(df.info())\n",
    "    date_columns = ['createDate', 'dateScanned', 'finishedDate', 'modifyDate', 'pointsAwardedDate', 'purchaseDate']\n",
    "    for col in date_columns:\n",
    "        if df[col].dtype != 'datetime64[ns]':\n",
    "            print(f\"Column {col} has invalid data type: {df[col].dtype}\")\n",
    "\n",
    "    if df['totalSpent'].dtype not in ['int64', 'float64']:\n",
    "        # Convert 'totalSpent' column to float, coercing errors to NaN\n",
    "        df['totalSpent'] = pd.to_numeric(df['totalSpent'], errors='coerce')\n",
    "\n",
    "def check_range(df):\n",
    "    # Check for non-negative values in 'totalSpent'\n",
    "    if (df['totalSpent'] < 0).any():\n",
    "        print(\"There are negative values in 'totalSpent' column\")\n",
    "\n",
    "# Call the functions\n",
    "check_data_types(receipts_df)\n",
    "check_range(receipts_df)"
   ]
  },
  {
   "cell_type": "markdown",
   "id": "c193adce",
   "metadata": {},
   "source": [
    "### 2. Check Consistency"
   ]
  },
  {
   "cell_type": "code",
   "execution_count": 11,
   "id": "7a42eeac",
   "metadata": {},
   "outputs": [
    {
     "name": "stdout",
     "output_type": "stream",
     "text": [
      "No record where 'finishedDate' is before 'createDate\n"
     ]
    }
   ],
   "source": [
    "def check_consistency(df):\n",
    "    inconsistent_dates = df[df['finishedDate'] < df['createDate']]\n",
    "    if not inconsistent_dates.empty:\n",
    "        print(f\"Found {len(inconsistent_dates)} records where 'finishedDate' is before 'createDate'\")\n",
    "    else:\n",
    "        print(\"No record where 'finishedDate' is before 'createDate\")\n",
    "\n",
    "# Call the function\n",
    "check_consistency(receipts_df)"
   ]
  },
  {
   "cell_type": "markdown",
   "id": "2831b332",
   "metadata": {},
   "source": [
    "### 3. Check Completeness"
   ]
  },
  {
   "cell_type": "markdown",
   "id": "36b6edb2",
   "metadata": {},
   "source": [
    "9 columns in Receipts Data contains missing value"
   ]
  },
  {
   "cell_type": "code",
   "execution_count": 7,
   "id": "88044612",
   "metadata": {},
   "outputs": [
    {
     "name": "stdout",
     "output_type": "stream",
     "text": [
      "Missing values in each column:\n",
      "bonusPointsEarned          575\n",
      "bonusPointsEarnedReason    575\n",
      "finishedDate               551\n",
      "pointsAwardedDate          582\n",
      "pointsEarned               510\n",
      "purchaseDate               448\n",
      "purchasedItemCount         484\n",
      "rewardsReceiptItemList     440\n",
      "totalSpent                 435\n",
      "dtype: int64\n"
     ]
    }
   ],
   "source": [
    "def check_completeness(df):\n",
    "    missing_values = df.isnull().sum()\n",
    "    print(\"Missing values in each column:\")\n",
    "    print(missing_values[missing_values > 0])\n",
    "\n",
    "check_completeness(receipts_df)"
   ]
  },
  {
   "cell_type": "code",
   "execution_count": 8,
   "id": "1eb93749",
   "metadata": {
    "scrolled": true
   },
   "outputs": [
    {
     "data": {
      "image/png": "[encoded data removed]",
      "text/plain": [
       "<Figure size 720x432 with 1 Axes>"
      ]
     },
     "metadata": {
      "needs_background": "light"
     },
     "output_type": "display_data"
    }
   ],
   "source": [
    "# Function to check completeness by calculating the percentage of missing values in each column\n",
    "def check_completeness(df):\n",
    "    completeness_report = df.isnull().mean() * 100\n",
    "    return completeness_report\n",
    "\n",
    "# Function to plot completeness for a given DataFrame in a horizontal bar plot\n",
    "def plot_completeness(df, title):\n",
    "    completeness_report = check_completeness(df)\n",
    "    completeness_report = completeness_report.sort_values(ascending=True)\n",
    "    completeness_report.plot(kind='barh', figsize=(10, 6))  # Changed to 'barh' for horizontal bars\n",
    "    plt.title(f'Completeness of {title}')\n",
    "    plt.xlabel('Percentage of Missing Values')  # Swapped the labels\n",
    "    plt.ylabel('Columns')\n",
    "    plt.show()\n",
    "\n",
    "plot_completeness(receipts_df, 'Receipts')"
   ]
  },
  {
   "cell_type": "markdown",
   "id": "35bb024e",
   "metadata": {},
   "source": [
    "### 4. Check Integrity"
   ]
  },
  {
   "cell_type": "code",
   "execution_count": 9,
   "id": "71e78db4",
   "metadata": {},
   "outputs": [
    {
     "name": "stdout",
     "output_type": "stream",
     "text": [
      "There is no duplicate for ID\n"
     ]
    }
   ],
   "source": [
    "# Function to plot the number of duplicates in a DataFrame\n",
    "def check_duplicates(df):\n",
    "    duplicates = df['_id'].duplicated().sum()\n",
    "    if duplicates:\n",
    "        print(f'There are {duplicates} duplicates  for ID')\n",
    "    else:\n",
    "        print('There is no duplicate for ID')\n",
    "check_duplicates(receipts_df)"
   ]
  },
  {
   "cell_type": "markdown",
   "id": "495fd642",
   "metadata": {},
   "source": [
    "### 4. Check Integrity"
   ]
  },
  {
   "cell_type": "code",
   "execution_count": 12,
   "id": "2418db44",
   "metadata": {},
   "outputs": [
    {
     "name": "stdout",
     "output_type": "stream",
     "text": [
      "All user IDs in receipts table correspond to valid users.\n"
     ]
    }
   ],
   "source": [
    "# Check Integrity\n",
    "def check_integrity(df, user_id):\n",
    "    if df[user_id].isin(df[user_id]).all():\n",
    "        print(\"All user IDs in receipts table correspond to valid users.\")\n",
    "    else:\n",
    "        print(\"Error: Found user IDs in receipts that don't exist in users table.\")\n",
    "        \n",
    "check_integrity(receipts_df, '_id')"
   ]
  },
  {
   "cell_type": "markdown",
   "id": "3fb50687",
   "metadata": {},
   "source": [
    "### 5. Check for Outliers\n",
    "28 values in the totalSpent column were identified as outliers.\n",
    "(Outliers are defined here as any values that are more than 15 IQRs below the first quartile or above the third quartile. This is a very aggressive criterion for outliers)"
   ]
  },
  {
   "cell_type": "code",
   "execution_count": 13,
   "id": "d755719d",
   "metadata": {
    "scrolled": true
   },
   "outputs": [
    {
     "name": "stdout",
     "output_type": "stream",
     "text": [
      "Outliers in 'totalSpent':\n",
      "                          _id  bonusPointsEarned  \\\n",
      "305  600373700a720f05f3000091              750.0   \n",
      "306  60023e8f0a720f05f300008b              750.0   \n",
      "310  6002590c0a7214ad4c000082              750.0   \n",
      "314  60025cb80a720f05f300008d              750.0   \n",
      "315  600370250a720f05f3000090              750.0   \n",
      "318  600260210a720f05f300008f              750.0   \n",
      "321  6004a5f20a7214ad4c000088              750.0   \n",
      "324  60049d9d0a720f05f3000094              750.0   \n",
      "327  6004a99e0a720f05f3000095              750.0   \n",
      "360  60088a100a7214ad890000bd              750.0   \n",
      "407  60099c3c0a7214ad89000135              750.0   \n",
      "409  6009e72c0a720f0535000003              750.0   \n",
      "419  600996ac0a720f05fa000134              750.0   \n",
      "420  600b34ca0a7214ada200000c              750.0   \n",
      "423  600a1a8d0a7214ada2000008              750.0   \n",
      "425  600afbd90a720f053500000b              750.0   \n",
      "426  600b420b0a7214ada200000d              750.0   \n",
      "427  600af82f0a720f053500000a              750.0   \n",
      "428  600b39f60a720f053500000e              750.0   \n",
      "429  600b139e0a7214ada200000a              750.0   \n",
      "430  600a1e270a720f0535000009              750.0   \n",
      "431  600ba6ae0a7214ada2000010              750.0   \n",
      "439  600eda0c0a7214ada200001e              500.0   \n",
      "446  600f24970a720f053500002f                NaN   \n",
      "447  600f0cc70a720f053500002c                NaN   \n",
      "462  600edb570a720f053500001d              250.0   \n",
      "469  600f39c30a7214ada2000030              750.0   \n",
      "543  600f2fc80a720f0535000030              750.0   \n",
      "\n",
      "                               bonusPointsEarnedReason          createDate  \\\n",
      "305  Receipt number 1 completed, bonus point schedu... 2021-01-16 23:14:56   \n",
      "306  Receipt number 1 completed, bonus point schedu... 2021-01-16 01:17:03   \n",
      "310  Receipt number 1 completed, bonus point schedu... 2021-01-16 03:10:04   \n",
      "314  Receipt number 1 completed, bonus point schedu... 2021-01-16 03:25:44   \n",
      "315  Receipt number 1 completed, bonus point schedu... 2021-01-16 23:00:53   \n",
      "318  Receipt number 1 completed, bonus point schedu... 2021-01-16 03:40:17   \n",
      "321  Receipt number 1 completed, bonus point schedu... 2021-01-17 21:02:42   \n",
      "324  Receipt number 1 completed, bonus point schedu... 2021-01-17 20:27:09   \n",
      "327  Receipt number 1 completed, bonus point schedu... 2021-01-17 21:18:21   \n",
      "360  Receipt number 1 completed, bonus point schedu... 2021-01-20 19:52:48   \n",
      "407  Receipt number 1 completed, bonus point schedu... 2021-01-21 15:22:36   \n",
      "409  Receipt number 1 completed, bonus point schedu... 2021-01-21 20:42:20   \n",
      "419  Receipt number 1 completed, bonus point schedu... 2021-01-21 14:58:52   \n",
      "420  Receipt number 1 completed, bonus point schedu... 2021-01-22 20:25:46   \n",
      "423  Receipt number 1 completed, bonus point schedu... 2021-01-22 00:21:32   \n",
      "425  Receipt number 1 completed, bonus point schedu... 2021-01-22 16:22:49   \n",
      "426  Receipt number 1 completed, bonus point schedu... 2021-01-22 21:22:19   \n",
      "427  Receipt number 1 completed, bonus point schedu... 2021-01-22 16:07:11   \n",
      "428  Receipt number 1 completed, bonus point schedu... 2021-01-22 20:47:50   \n",
      "429  Receipt number 1 completed, bonus point schedu... 2021-01-22 18:04:13   \n",
      "430  Receipt number 1 completed, bonus point schedu... 2021-01-22 00:36:55   \n",
      "431  Receipt number 1 completed, bonus point schedu... 2021-01-23 04:31:42   \n",
      "439  Receipt number 2 completed, bonus point schedu... 2021-01-25 14:47:40   \n",
      "446                                                NaN 2021-01-25 20:05:43   \n",
      "447                                                NaN 2021-01-25 18:24:07   \n",
      "462  Receipt number 3 completed, bonus point schedu... 2021-01-25 14:53:11   \n",
      "469  Receipt number 1 completed, bonus point schedu... 2021-01-25 21:36:03   \n",
      "543  Receipt number 1 completed, bonus point schedu... 2021-01-25 20:53:28   \n",
      "\n",
      "            dateScanned        finishedDate          modifyDate  \\\n",
      "305 2021-01-16 23:14:56 2021-01-16 23:29:50 2021-01-16 23:31:40   \n",
      "306 2021-01-16 01:17:03 2021-01-16 01:24:04 2021-01-16 01:24:50   \n",
      "310 2021-01-16 03:10:04 2021-01-16 03:18:55 2021-01-16 03:19:12   \n",
      "314 2021-01-16 03:25:44 2021-01-16 03:31:55 2021-01-16 03:32:05   \n",
      "315 2021-01-16 23:00:53 2021-01-16 23:09:03 2021-01-16 23:09:29   \n",
      "318 2021-01-16 03:40:17 2021-01-16 03:47:26 2021-01-16 03:47:31   \n",
      "321 2021-01-17 21:02:42 2021-01-17 21:09:44 2021-01-17 21:14:15   \n",
      "324 2021-01-17 20:27:09 2021-01-17 20:40:36 2021-01-17 20:41:17   \n",
      "327 2021-01-17 21:18:21 2021-01-17 21:26:38 2021-01-18 15:01:00   \n",
      "360 2021-01-20 19:52:48 2021-01-20 19:59:35 2021-01-20 20:00:38   \n",
      "407 2021-01-21 15:22:36 2021-01-21 15:28:37 2021-01-21 15:31:10   \n",
      "409 2021-01-21 20:42:20 2021-01-21 20:47:42 2021-01-21 20:49:51   \n",
      "419 2021-01-21 14:58:52 2021-01-21 15:11:25 2021-01-21 15:16:08   \n",
      "420 2021-01-22 20:25:46 2021-01-22 20:35:47 2021-01-22 20:37:21   \n",
      "423 2021-01-22 00:21:32 2021-01-22 00:30:13 2021-01-22 00:31:04   \n",
      "425 2021-01-22 16:22:49 2021-01-22 16:30:46 2021-01-22 16:32:00   \n",
      "426 2021-01-22 21:22:19 2021-01-22 21:32:17 2021-01-22 21:35:24   \n",
      "427 2021-01-22 16:07:11 2021-01-22 16:11:00 2021-01-22 16:12:14   \n",
      "428 2021-01-22 20:47:50 2021-01-22 20:58:20 2021-01-22 21:00:33   \n",
      "429 2021-01-22 18:04:13 2021-01-22 18:14:47 2021-01-22 18:16:13   \n",
      "430 2021-01-22 00:36:55 2021-01-22 00:48:12 2021-01-22 00:49:55   \n",
      "431 2021-01-23 04:31:42 2021-01-23 04:39:28 2021-01-23 04:41:47   \n",
      "439 2021-01-25 14:47:40 2021-01-25 14:51:04 2021-01-25 14:51:46   \n",
      "446 2021-01-25 20:05:43                 NaT 2021-01-25 20:25:25   \n",
      "447 2021-01-25 18:24:07                 NaT 2021-01-25 18:38:07   \n",
      "462 2021-01-25 14:53:11 2021-01-25 15:00:21 2021-01-25 15:01:49   \n",
      "469 2021-01-25 21:36:03 2021-01-26 03:06:03 2021-01-26 03:07:40   \n",
      "543 2021-01-25 20:53:28 2021-01-25 22:04:23 2021-01-28 22:37:02   \n",
      "\n",
      "      pointsAwardedDate pointsEarned purchaseDate  purchasedItemCount  \\\n",
      "305 2021-01-16 23:29:50       2416.7   2021-01-16               211.0   \n",
      "306 2021-01-16 01:24:04       1806.4   2021-01-05               202.0   \n",
      "310 2021-01-16 03:18:55       1516.9   2021-01-14               208.0   \n",
      "314 2021-01-16 03:31:55       1658.3   2021-01-15               335.0   \n",
      "315 2021-01-16 23:09:03       2685.8   2021-01-16               240.0   \n",
      "318 2021-01-16 03:47:26       3659.4   2021-01-15               309.0   \n",
      "321 2021-01-17 21:09:44        877.7   2021-01-09               164.0   \n",
      "324 2021-01-17 20:40:36        922.1   2021-01-01               212.0   \n",
      "327 2021-01-17 21:26:38       1541.8   2021-01-09               167.0   \n",
      "360 2021-01-20 19:59:35       2055.5   2021-01-09               149.0   \n",
      "407 2021-01-21 15:28:37       4480.5   2021-01-21               341.0   \n",
      "409 2021-01-21 20:47:42       3379.9   2021-01-21               229.0   \n",
      "419 2021-01-21 15:11:25       6257.3   2021-01-17               348.0   \n",
      "420 2021-01-22 20:35:47        750.0   2021-01-22               157.0   \n",
      "423 2021-01-22 00:30:13       1178.7   2021-01-21               214.0   \n",
      "425 2021-01-22 16:30:46       1447.0   2021-01-15               122.0   \n",
      "426 2021-01-22 21:32:17       1729.5   2021-01-22               133.0   \n",
      "427 2021-01-22 16:11:00       1476.2   2021-01-22               124.0   \n",
      "428 2021-01-22 20:58:20       1708.0   2021-01-22               133.0   \n",
      "429 2021-01-22 18:14:47       1077.5   2021-01-22               159.0   \n",
      "430 2021-01-22 00:48:12       1135.1   2021-01-21               196.0   \n",
      "431 2021-01-23 04:39:28       1044.3   2021-01-22               136.0   \n",
      "439 2021-01-25 14:51:04        640.7   2021-01-25               137.0   \n",
      "446                 NaT          NaN   2021-01-25               599.0   \n",
      "447                 NaT          NaN   2021-01-25               303.0   \n",
      "462 2021-01-25 15:00:21        487.7   2021-01-25               161.0   \n",
      "469 2021-01-26 03:06:03       7137.2   2021-01-24               670.0   \n",
      "543 2021-01-25 22:04:23       4944.7   2021-01-24               689.0   \n",
      "\n",
      "                                rewardsReceiptItemList rewardsReceiptStatus  \\\n",
      "305  [{'barcode': '076840580750', 'brandCode': 'BEN...             FINISHED   \n",
      "306  [{'brandCode': 'HY-VEE', 'description': 'HYV G...             FINISHED   \n",
      "310  [{'description': 'BORDEN 2% MILK, 1/2 GAL', 'd...             FINISHED   \n",
      "314  [{'description': 'EMIL' S SAUSAGE MUSHROOM PIZ...             FINISHED   \n",
      "315  [{'description': 'KLEENEX TRUSTED CARE FACIAL ...             FINISHED   \n",
      "318  [{'barcode': '028400643061', 'brandCode': 'DOR...             FINISHED   \n",
      "321  [{'brandCode': 'HY-VEE', 'description': 'HYV G...             FINISHED   \n",
      "324  [{'brandCode': 'HY-VEE', 'description': 'HYV G...             FINISHED   \n",
      "327  [{'brandCode': 'HY-VEE', 'description': 'HYV G...             FINISHED   \n",
      "360  [{'brandCode': 'HY-VEE', 'description': 'HYV G...             FINISHED   \n",
      "407  [{'barcode': '012000809941', 'brandCode': 'PEP...             FINISHED   \n",
      "409  [{'barcode': '012000809941', 'brandCode': 'PEP...             FINISHED   \n",
      "419  [{'barcode': '012000809941', 'brandCode': 'PEP...             FINISHED   \n",
      "420  [{'description': 'BEN & JERRY' S CHUNKY MONKEY...             FINISHED   \n",
      "423  [{'barcode': '041000022623', 'brandCode': 'KNO...             FINISHED   \n",
      "425  [{'description': 'EMIL S SAUSAGE MUSHROOM PIZZ...             FINISHED   \n",
      "426  [{'barcode': '076840100354', 'brandCode': 'BEN...             FINISHED   \n",
      "427  [{'description': 'EMIL' S SAUSAGE MUSHROOM PIZ...             FINISHED   \n",
      "428  [{'barcode': '076840100354', 'brandCode': 'BEN...             FINISHED   \n",
      "429  [{'barcode': '053000069867', 'brandCode': 'BOR...             FINISHED   \n",
      "430  [{'barcode': '815473013279', 'brandCode': 'BOR...             FINISHED   \n",
      "431  [{'barcode': '076840100354', 'brandCode': 'BEN...             FINISHED   \n",
      "439  [{'barcode': '077661120460', 'brandCode': 'LIT...             FINISHED   \n",
      "446  [{'brandCode': 'BETTY CROCKER', 'description':...              FLAGGED   \n",
      "447  [{'brandCode': 'BETTY CROCKER', 'description':...              FLAGGED   \n",
      "462  [{'description': 'GHRRDL V IDNIGHT REV #', 'di...             FINISHED   \n",
      "469  [{'brandCode': 'BETTY CROCKER', 'description':...             FINISHED   \n",
      "543  [{'brandCode': 'BETTY CROCKER', 'description':...             FINISHED   \n",
      "\n",
      "     totalSpent                    userId  \n",
      "305      803.48  60037329e257124ec6b99eeb  \n",
      "306      776.79  60023de5fb296c121a81b955  \n",
      "310      746.94  600258dafb296c4ef805d9b7  \n",
      "314     1177.84  60025c65fb296c4ef805d9e6  \n",
      "315      850.49  60037005e257124ec6b99ec2  \n",
      "318     1043.18  60025fe0e257124ec6b99a87  \n",
      "321      574.16  6004a5d3fb296c4ef805e256  \n",
      "324      743.79  60049cdce257124ec6b9a353  \n",
      "327      574.65  6004a965e257124ec6b9a39f  \n",
      "360      612.95  6008896c633aab121bb8e11d  \n",
      "407     1083.24  60099c1450b33111fd61f702  \n",
      "409      728.73  6009e60450b3311194385009  \n",
      "419     1198.68  6009969150b33111fd61f6d9  \n",
      "420      816.21  600b349550b3311194385600  \n",
      "423     1183.10  600a1a457d983a124e9adb9b  \n",
      "425      769.40  600afb2a7d983a124e9aded0  \n",
      "426      661.41  600b41d050b3311194385655  \n",
      "427      612.10  600af8097d983a124e9adeb3  \n",
      "428      716.50  600b39ce50b331119438562a  \n",
      "429      935.14  600b00687d983a124e9adef9  \n",
      "430      944.15  600a1ddf50b33111943851a2  \n",
      "431     1107.82  600ba68e7d983a124e9ae1d3  \n",
      "439      847.28  600ed95043298911ce45e82c  \n",
      "446     4368.80  600f20c15edb787dce060911  \n",
      "447     2084.82  600f00d05edb787dce05fb84  \n",
      "462      715.23  600ed95043298911ce45e82c  \n",
      "469     4721.95  600f35015edb782098e2ac1b  \n",
      "543     4566.17  600f29a64329897eac239049  \n",
      "Duplicate rows:\n",
      "Empty DataFrame\n",
      "Columns: [_id, bonusPointsEarned, bonusPointsEarnedReason, createDate, dateScanned, finishedDate, modifyDate, pointsAwardedDate, pointsEarned, purchaseDate, purchasedItemCount, rewardsReceiptItemList, rewardsReceiptStatus, totalSpent, userId]\n",
      "Index: []\n"
     ]
    }
   ],
   "source": [
    "# Check for Outliers in 'totalSpent'\n",
    "df = receipts_df\n",
    "Q1 = df['totalSpent'].quantile(0.25)\n",
    "Q3 = df['totalSpent'].quantile(0.75)\n",
    "IQR = Q3 - Q1\n",
    "outliers = df[(df['totalSpent'] < (Q1 - 15 * IQR)) | (df['totalSpent'] > (Q3 + 15 * IQR))]\n",
    "print(\"Outliers in 'totalSpent':\")\n",
    "print(outliers)"
   ]
  },
  {
   "cell_type": "code",
   "execution_count": 29,
   "id": "a369c557",
   "metadata": {},
   "outputs": [
    {
     "data": {
      "image/png": "[encoded data removed]",
      "text/plain": [
       "<Figure size 720x432 with 1 Axes>"
      ]
     },
     "metadata": {
      "needs_background": "light"
     },
     "output_type": "display_data"
    }
   ],
   "source": [
    "# Calculate IQR\n",
    "Q1 = df['totalSpent'].quantile(0.25)\n",
    "Q3 = df['totalSpent'].quantile(0.75)\n",
    "IQR = Q3 - Q1\n",
    "\n",
    "# Determine outliers using 15 * IQR\n",
    "outliers = df[(df['totalSpent'] < (Q1 - 15 * IQR)) | (df['totalSpent'] > (Q3 + 15 * IQR))]\n",
    "\n",
    "# Plot\n",
    "plt.figure(figsize=(10, 6))\n",
    "\n",
    "# Plot non-outliers\n",
    "plt.scatter(df.index[~df.index.isin(outliers.index)], df['totalSpent'][~df.index.isin(outliers.index)], label='Regular Points')\n",
    "\n",
    "# Highlight outliers\n",
    "plt.scatter(outliers.index, outliers['totalSpent'], color='red', label='Outliers')\n",
    "\n",
    "plt.title(\"Outliers in 'totalSpent'\")\n",
    "plt.xlabel('Index')\n",
    "plt.ylabel('Total Spent')\n",
    "plt.legend()\n",
    "\n",
    "plt.show()"
   ]
  },
  {
   "cell_type": "markdown",
   "id": "2c9c1531",
   "metadata": {},
   "source": [
    "## b. Users Data"
   ]
  },
  {
   "cell_type": "code",
   "execution_count": 16,
   "id": "2c9fd79d",
   "metadata": {
    "scrolled": true
   },
   "outputs": [
    {
     "data": {
      "text/html": [
       "<div>\n",
       "<style scoped>\n",
       "    .dataframe tbody tr th:only-of-type {\n",
       "        vertical-align: middle;\n",
       "    }\n",
       "\n",
       "    .dataframe tbody tr th {\n",
       "        vertical-align: top;\n",
       "    }\n",
       "\n",
       "    .dataframe thead th {\n",
       "        text-align: right;\n",
       "    }\n",
       "</style>\n",
       "<table border=\"1\" class=\"dataframe\">\n",
       "  <thead>\n",
       "    <tr style=\"text-align: right;\">\n",
       "      <th></th>\n",
       "      <th>_id</th>\n",
       "      <th>active</th>\n",
       "      <th>createdDate</th>\n",
       "      <th>lastLogin</th>\n",
       "      <th>role</th>\n",
       "      <th>signUpSource</th>\n",
       "      <th>state</th>\n",
       "    </tr>\n",
       "  </thead>\n",
       "  <tbody>\n",
       "    <tr>\n",
       "      <th>0</th>\n",
       "      <td>5ff1e194b6a9d73a3a9f1052</td>\n",
       "      <td>True</td>\n",
       "      <td>2021-01-03 15:24:04.800</td>\n",
       "      <td>2021-01-03 15:25:37.857999872</td>\n",
       "      <td>consumer</td>\n",
       "      <td>Email</td>\n",
       "      <td>WI</td>\n",
       "    </tr>\n",
       "    <tr>\n",
       "      <th>1</th>\n",
       "      <td>5ff1e194b6a9d73a3a9f1052</td>\n",
       "      <td>True</td>\n",
       "      <td>2021-01-03 15:24:04.800</td>\n",
       "      <td>2021-01-03 15:25:37.857999872</td>\n",
       "      <td>consumer</td>\n",
       "      <td>Email</td>\n",
       "      <td>WI</td>\n",
       "    </tr>\n",
       "    <tr>\n",
       "      <th>2</th>\n",
       "      <td>5ff1e194b6a9d73a3a9f1052</td>\n",
       "      <td>True</td>\n",
       "      <td>2021-01-03 15:24:04.800</td>\n",
       "      <td>2021-01-03 15:25:37.857999872</td>\n",
       "      <td>consumer</td>\n",
       "      <td>Email</td>\n",
       "      <td>WI</td>\n",
       "    </tr>\n",
       "    <tr>\n",
       "      <th>3</th>\n",
       "      <td>5ff1e1eacfcf6c399c274ae6</td>\n",
       "      <td>True</td>\n",
       "      <td>2021-01-03 15:25:30.554</td>\n",
       "      <td>2021-01-03 15:25:30.596999936</td>\n",
       "      <td>consumer</td>\n",
       "      <td>Email</td>\n",
       "      <td>WI</td>\n",
       "    </tr>\n",
       "    <tr>\n",
       "      <th>4</th>\n",
       "      <td>5ff1e194b6a9d73a3a9f1052</td>\n",
       "      <td>True</td>\n",
       "      <td>2021-01-03 15:24:04.800</td>\n",
       "      <td>2021-01-03 15:25:37.857999872</td>\n",
       "      <td>consumer</td>\n",
       "      <td>Email</td>\n",
       "      <td>WI</td>\n",
       "    </tr>\n",
       "  </tbody>\n",
       "</table>\n",
       "</div>"
      ],
      "text/plain": [
       "                        _id  active             createdDate  \\\n",
       "0  5ff1e194b6a9d73a3a9f1052    True 2021-01-03 15:24:04.800   \n",
       "1  5ff1e194b6a9d73a3a9f1052    True 2021-01-03 15:24:04.800   \n",
       "2  5ff1e194b6a9d73a3a9f1052    True 2021-01-03 15:24:04.800   \n",
       "3  5ff1e1eacfcf6c399c274ae6    True 2021-01-03 15:25:30.554   \n",
       "4  5ff1e194b6a9d73a3a9f1052    True 2021-01-03 15:24:04.800   \n",
       "\n",
       "                      lastLogin      role signUpSource state  \n",
       "0 2021-01-03 15:25:37.857999872  consumer        Email    WI  \n",
       "1 2021-01-03 15:25:37.857999872  consumer        Email    WI  \n",
       "2 2021-01-03 15:25:37.857999872  consumer        Email    WI  \n",
       "3 2021-01-03 15:25:30.596999936  consumer        Email    WI  \n",
       "4 2021-01-03 15:25:37.857999872  consumer        Email    WI  "
      ]
     },
     "execution_count": 16,
     "metadata": {},
     "output_type": "execute_result"
    }
   ],
   "source": [
    "# read Users Data\n",
    "file_path = './users.json.gz'\n",
    "users_df = readJson(file_path)\n",
    "# Flatten nested '_id' and date columns\n",
    "users_df['_id'] = extract_value_from_dict(users_df['_id'], '$oid')\n",
    "users_df['createdDate'] = pd.to_datetime(extract_value_from_dict(users_df['createdDate'], '$date'), unit='ms')\n",
    "users_df['lastLogin'] = pd.to_datetime(extract_value_from_dict(users_df['lastLogin'], '$date'), unit='ms')\n",
    "users_df.head()"
   ]
  },
  {
   "cell_type": "markdown",
   "id": "5bdf2f49",
   "metadata": {},
   "source": [
    "### 1. Check Validity"
   ]
  },
  {
   "cell_type": "code",
   "execution_count": 17,
   "id": "3a4b0c7a",
   "metadata": {},
   "outputs": [
    {
     "name": "stdout",
     "output_type": "stream",
     "text": [
      "<class 'pandas.core.frame.DataFrame'>\n",
      "RangeIndex: 495 entries, 0 to 494\n",
      "Data columns (total 7 columns):\n",
      " #   Column        Non-Null Count  Dtype         \n",
      "---  ------        --------------  -----         \n",
      " 0   _id           495 non-null    object        \n",
      " 1   active        495 non-null    bool          \n",
      " 2   createdDate   495 non-null    datetime64[ns]\n",
      " 3   lastLogin     433 non-null    datetime64[ns]\n",
      " 4   role          495 non-null    object        \n",
      " 5   signUpSource  447 non-null    object        \n",
      " 6   state         439 non-null    object        \n",
      "dtypes: bool(1), datetime64[ns](2), object(4)\n",
      "memory usage: 23.8+ KB\n",
      "None\n"
     ]
    },
    {
     "data": {
      "text/plain": [
       "'Count of Invalid roles: 0'"
      ]
     },
     "execution_count": 17,
     "metadata": {},
     "output_type": "execute_result"
    }
   ],
   "source": [
    "def check_data_types(df):\n",
    "    print(df.info())\n",
    "    date_columns = ['createdDate', 'lastLogin']\n",
    "    for col in date_columns:\n",
    "        if df[col].dtype != 'datetime64[ns]':\n",
    "            print(f\"Column {col} has invalid data type: {df[col].dtype}\")\n",
    "def check_roles(df):\n",
    "    valid_roles = ['consumer', 'admin', 'fetch-staff']\n",
    "    invalid_roles = df[~df['role'].isin(valid_roles)]\n",
    "    return f'Count of Invalid roles: {len(invalid_roles)}'\n",
    "# Call the functions\n",
    "check_data_types(users_df)\n",
    "check_roles(users_df)"
   ]
  },
  {
   "cell_type": "code",
   "execution_count": 20,
   "id": "919f77fa",
   "metadata": {},
   "outputs": [
    {
     "name": "stdout",
     "output_type": "stream",
     "text": [
      "Found 0 records where 'lastLogin' is before 'createdDate'\n"
     ]
    }
   ],
   "source": [
    "### 2. Check Consistency\n",
    "def check_consistency(df):\n",
    "    inconsistent_dates = df[df['lastLogin'] < df['createdDate']]\n",
    "    print(f\"Found {len(inconsistent_dates)} records where 'lastLogin' is before 'createdDate'\")\n",
    "\n",
    "# Call the function\n",
    "check_consistency(users_df)"
   ]
  },
  {
   "cell_type": "markdown",
   "id": "51f74055",
   "metadata": {},
   "source": [
    "### 3. Check Completeness"
   ]
  },
  {
   "cell_type": "code",
   "execution_count": 19,
   "id": "b3d27585",
   "metadata": {},
   "outputs": [
    {
     "data": {
      "text/plain": [
       "_id              0.000000\n",
       "active           0.000000\n",
       "createdDate      0.000000\n",
       "lastLogin       12.525253\n",
       "role             0.000000\n",
       "signUpSource     9.696970\n",
       "state           11.313131\n",
       "dtype: float64"
      ]
     },
     "execution_count": 19,
     "metadata": {},
     "output_type": "execute_result"
    }
   ],
   "source": [
    "check_completeness(users_df)"
   ]
  },
  {
   "cell_type": "code",
   "execution_count": 21,
   "id": "a287409b",
   "metadata": {
    "scrolled": false
   },
   "outputs": [
    {
     "data": {
      "image/png": "[encoded data removed]",
      "text/plain": [
       "<Figure size 720x432 with 1 Axes>"
      ]
     },
     "metadata": {
      "needs_background": "light"
     },
     "output_type": "display_data"
    }
   ],
   "source": [
    "# Analyze percentage of missing values users\n",
    "plot_completeness(users_df, 'Receipts')"
   ]
  },
  {
   "cell_type": "markdown",
   "id": "365bd985",
   "metadata": {},
   "source": [
    "### 4. Check Integrity"
   ]
  },
  {
   "cell_type": "code",
   "execution_count": 22,
   "id": "006975b9",
   "metadata": {
    "scrolled": false
   },
   "outputs": [
    {
     "name": "stdout",
     "output_type": "stream",
     "text": [
      "All user IDs in receipts table correspond to valid users.\n",
      "There are 283 duplicates  for ID\n"
     ]
    }
   ],
   "source": [
    "check_integrity(users_df, '_id')\n",
    "check_duplicates(users_df)"
   ]
  },
  {
   "cell_type": "markdown",
   "id": "9a82a391",
   "metadata": {},
   "source": [
    "## Brand Data"
   ]
  },
  {
   "cell_type": "code",
   "execution_count": 23,
   "id": "bbd7a1a6",
   "metadata": {
    "scrolled": false
   },
   "outputs": [
    {
     "data": {
      "text/html": [
       "<div>\n",
       "<style scoped>\n",
       "    .dataframe tbody tr th:only-of-type {\n",
       "        vertical-align: middle;\n",
       "    }\n",
       "\n",
       "    .dataframe tbody tr th {\n",
       "        vertical-align: top;\n",
       "    }\n",
       "\n",
       "    .dataframe thead th {\n",
       "        text-align: right;\n",
       "    }\n",
       "</style>\n",
       "<table border=\"1\" class=\"dataframe\">\n",
       "  <thead>\n",
       "    <tr style=\"text-align: right;\">\n",
       "      <th></th>\n",
       "      <th>_id</th>\n",
       "      <th>barcode</th>\n",
       "      <th>category</th>\n",
       "      <th>categoryCode</th>\n",
       "      <th>cpg</th>\n",
       "      <th>name</th>\n",
       "      <th>topBrand</th>\n",
       "      <th>brandCode</th>\n",
       "    </tr>\n",
       "  </thead>\n",
       "  <tbody>\n",
       "    <tr>\n",
       "      <th>0</th>\n",
       "      <td>601ac115be37ce2ead437551</td>\n",
       "      <td>511111019862</td>\n",
       "      <td>Baking</td>\n",
       "      <td>BAKING</td>\n",
       "      <td>{'$id': {'$oid': '601ac114be37ce2ead437550'}, ...</td>\n",
       "      <td>test brand @1612366101024</td>\n",
       "      <td>False</td>\n",
       "      <td>NaN</td>\n",
       "    </tr>\n",
       "    <tr>\n",
       "      <th>1</th>\n",
       "      <td>601c5460be37ce2ead43755f</td>\n",
       "      <td>511111519928</td>\n",
       "      <td>Beverages</td>\n",
       "      <td>BEVERAGES</td>\n",
       "      <td>{'$id': {'$oid': '5332f5fbe4b03c9a25efd0ba'}, ...</td>\n",
       "      <td>Starbucks</td>\n",
       "      <td>False</td>\n",
       "      <td>STARBUCKS</td>\n",
       "    </tr>\n",
       "    <tr>\n",
       "      <th>2</th>\n",
       "      <td>601ac142be37ce2ead43755d</td>\n",
       "      <td>511111819905</td>\n",
       "      <td>Baking</td>\n",
       "      <td>BAKING</td>\n",
       "      <td>{'$id': {'$oid': '601ac142be37ce2ead437559'}, ...</td>\n",
       "      <td>test brand @1612366146176</td>\n",
       "      <td>False</td>\n",
       "      <td>TEST BRANDCODE @1612366146176</td>\n",
       "    </tr>\n",
       "    <tr>\n",
       "      <th>3</th>\n",
       "      <td>601ac142be37ce2ead43755a</td>\n",
       "      <td>511111519874</td>\n",
       "      <td>Baking</td>\n",
       "      <td>BAKING</td>\n",
       "      <td>{'$id': {'$oid': '601ac142be37ce2ead437559'}, ...</td>\n",
       "      <td>test brand @1612366146051</td>\n",
       "      <td>False</td>\n",
       "      <td>TEST BRANDCODE @1612366146051</td>\n",
       "    </tr>\n",
       "    <tr>\n",
       "      <th>4</th>\n",
       "      <td>601ac142be37ce2ead43755e</td>\n",
       "      <td>511111319917</td>\n",
       "      <td>Candy &amp; Sweets</td>\n",
       "      <td>CANDY_AND_SWEETS</td>\n",
       "      <td>{'$id': {'$oid': '5332fa12e4b03c9a25efd1e7'}, ...</td>\n",
       "      <td>test brand @1612366146827</td>\n",
       "      <td>False</td>\n",
       "      <td>TEST BRANDCODE @1612366146827</td>\n",
       "    </tr>\n",
       "  </tbody>\n",
       "</table>\n",
       "</div>"
      ],
      "text/plain": [
       "                        _id       barcode        category      categoryCode  \\\n",
       "0  601ac115be37ce2ead437551  511111019862          Baking            BAKING   \n",
       "1  601c5460be37ce2ead43755f  511111519928       Beverages         BEVERAGES   \n",
       "2  601ac142be37ce2ead43755d  511111819905          Baking            BAKING   \n",
       "3  601ac142be37ce2ead43755a  511111519874          Baking            BAKING   \n",
       "4  601ac142be37ce2ead43755e  511111319917  Candy & Sweets  CANDY_AND_SWEETS   \n",
       "\n",
       "                                                 cpg  \\\n",
       "0  {'$id': {'$oid': '601ac114be37ce2ead437550'}, ...   \n",
       "1  {'$id': {'$oid': '5332f5fbe4b03c9a25efd0ba'}, ...   \n",
       "2  {'$id': {'$oid': '601ac142be37ce2ead437559'}, ...   \n",
       "3  {'$id': {'$oid': '601ac142be37ce2ead437559'}, ...   \n",
       "4  {'$id': {'$oid': '5332fa12e4b03c9a25efd1e7'}, ...   \n",
       "\n",
       "                        name topBrand                      brandCode  \n",
       "0  test brand @1612366101024    False                            NaN  \n",
       "1                  Starbucks    False                      STARBUCKS  \n",
       "2  test brand @1612366146176    False  TEST BRANDCODE @1612366146176  \n",
       "3  test brand @1612366146051    False  TEST BRANDCODE @1612366146051  \n",
       "4  test brand @1612366146827    False  TEST BRANDCODE @1612366146827  "
      ]
     },
     "execution_count": 23,
     "metadata": {},
     "output_type": "execute_result"
    }
   ],
   "source": [
    "file_path = './brands.json.gz'\n",
    "brands_df = readJson(file_path)\n",
    "# Flatten nested '_id'\n",
    "brands_df['_id'] = extract_value_from_dict(brands_df['_id'], '$oid')\n",
    "brands_df.head()"
   ]
  },
  {
   "cell_type": "markdown",
   "id": "fdbfb243",
   "metadata": {},
   "source": [
    "### 1. Check Validity"
   ]
  },
  {
   "cell_type": "code",
   "execution_count": 24,
   "id": "5f16c510",
   "metadata": {},
   "outputs": [
    {
     "name": "stdout",
     "output_type": "stream",
     "text": [
      "<class 'pandas.core.frame.DataFrame'>\n",
      "RangeIndex: 495 entries, 0 to 494\n",
      "Data columns (total 7 columns):\n",
      " #   Column        Non-Null Count  Dtype         \n",
      "---  ------        --------------  -----         \n",
      " 0   _id           495 non-null    object        \n",
      " 1   active        495 non-null    bool          \n",
      " 2   createdDate   495 non-null    datetime64[ns]\n",
      " 3   lastLogin     433 non-null    datetime64[ns]\n",
      " 4   role          495 non-null    object        \n",
      " 5   signUpSource  447 non-null    object        \n",
      " 6   state         439 non-null    object        \n",
      "dtypes: bool(1), datetime64[ns](2), object(4)\n",
      "memory usage: 23.8+ KB\n"
     ]
    }
   ],
   "source": [
    "users_df.info()"
   ]
  },
  {
   "cell_type": "markdown",
   "id": "95c19e52",
   "metadata": {},
   "source": [
    "### 2. Check Completeness"
   ]
  },
  {
   "cell_type": "code",
   "execution_count": 25,
   "id": "63e31e3e",
   "metadata": {},
   "outputs": [
    {
     "data": {
      "text/plain": [
       "_id              0.000000\n",
       "active           0.000000\n",
       "createdDate      0.000000\n",
       "lastLogin       12.525253\n",
       "role             0.000000\n",
       "signUpSource     9.696970\n",
       "state           11.313131\n",
       "dtype: float64"
      ]
     },
     "execution_count": 25,
     "metadata": {},
     "output_type": "execute_result"
    }
   ],
   "source": [
    "check_completeness(users_df)"
   ]
  },
  {
   "cell_type": "code",
   "execution_count": 26,
   "id": "ee8005ee",
   "metadata": {},
   "outputs": [
    {
     "data": {
      "image/png": "[encoded data removed]",
      "text/plain": [
       "<Figure size 720x432 with 1 Axes>"
      ]
     },
     "metadata": {
      "needs_background": "light"
     },
     "output_type": "display_data"
    }
   ],
   "source": [
    "plot_completeness(users_df, 'Users')"
   ]
  },
  {
   "cell_type": "markdown",
   "id": "5549d7c3",
   "metadata": {},
   "source": [
    "### 4. Check Integrity"
   ]
  },
  {
   "cell_type": "code",
   "execution_count": 27,
   "id": "ceb3af14",
   "metadata": {},
   "outputs": [
    {
     "name": "stdout",
     "output_type": "stream",
     "text": [
      "All user IDs in receipts table correspond to valid users.\n"
     ]
    }
   ],
   "source": [
    "check_integrity(users_df, '_id')"
   ]
  }
 ],
 "metadata": {
  "kernelspec": {
   "display_name": "Python 3",
   "language": "python",
   "name": "python3"
  },
  "language_info": {
   "codemirror_mode": {
    "name": "ipython",
    "version": 3
   },
   "file_extension": ".py",
   "mimetype": "text/x-python",
   "name": "python",
   "nbconvert_exporter": "python",
   "pygments_lexer": "ipython3",
   "version": "3.7.6"
  }
 },
 "nbformat": 4,
 "nbformat_minor": 5
}
